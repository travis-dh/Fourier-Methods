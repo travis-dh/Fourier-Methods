{
 "cells": [
  {
   "cell_type": "markdown",
   "metadata": {},
   "source": [
    "## Fourier Methods Lab\n",
    "\n",
    "Below is some boilerplate code for calculating the FFT with NumPy and comparing to the oscilloscope fft channel. Also for calculating area under power spectrum graphs, and calculating variances."
   ]
  },
  {
   "cell_type": "markdown",
   "metadata": {},
   "source": [
    "The folders before `ALL0044` have FFTs who are not centered on the origin. The data processing for these will be annoying. Use a `...CH1.csv` file at or later than `ALL0044`, and its corresponding `FFT.csv` files.\n",
    "\n",
    "This Notebook uses `F0044CH1.CSV` as an example. Its transform is then `F0045FFT.CSV`.\n",
    "\n",
    "<img src='Data/ALL0044/F0044TEK.BMP' width='600'>"
   ]
  },
  {
   "cell_type": "markdown",
   "metadata": {},
   "source": [
    "Move/cut the metadata from the top of the `.csv` file and save it somewhere else (or copy the data and save it to a new file). This way, we still know the units and scales for the y-axis and x-axis, and the `.csv` file becomes easier to work with.\n",
    "\n",
    "For `F0044CH1.CSV`, its metadata is recorded in the cell below. The \"cleaned\" file is `trim44CH1.CSV`"
   ]
  },
  {
   "cell_type": "markdown",
   "metadata": {},
   "source": [
    "````Record Length,2.500000e+03,,  -0.000244000000,-2680.00000,\n",
    "Sample Interval,4.000000e-07,,  -0.000243600000,-2680.00000,\n",
    "Trigger Point,6.100000000000e+02,,  -0.000243200000,-2680.00000,\n",
    ",,,  -0.000242800000,-2680.00000,\n",
    ",,,  -0.000242400000,-2640.00000,\n",
    ",,,  -0.000242000000,-2680.00000,\n",
    "Source,CH1,,  -0.000241600000,-2680.00000,\n",
    "Vertical Units,V,,  -0.000241200000,-2680.00000,\n",
    "Vertical Scale,1.000000e+03,,  -0.000240800000,-2640.00000,\n",
    "Vertical Offset,0.000000e+00,,  -0.000240400000,-2640.00000,\n",
    "Horizontal Units,s,,  -0.000240000000,-2680.00000,\n",
    "Horizontal Scale,1.000000e-04,,  -0.000239600000,-2680.00000,\n",
    "Pt Fmt,Y,,  -0.000239200000,-2680.00000,\n",
    "Yzero,0.000000e+00,,  -0.000238800000,-2720.00000,\n",
    "Probe Atten,5.000000e+02,,  -0.000238400000,-2680.00000,\n",
    "Model Number,TBS1202B-EDU,,  -0.000238000000,-2680.00000,\n",
    "Serial Number,C030451,,  -0.000237600000,-2680.00000,\n",
    "Firmware Version,FV:v4.06,,  -0.000237200000,-2640.00000,\n",
    "``"
   ]
  },
  {
   "cell_type": "code",
   "execution_count": 1,
   "metadata": {},
   "outputs": [
    {
     "data": {
      "text/html": [
       "<div>\n",
       "<style scoped>\n",
       "    .dataframe tbody tr th:only-of-type {\n",
       "        vertical-align: middle;\n",
       "    }\n",
       "\n",
       "    .dataframe tbody tr th {\n",
       "        vertical-align: top;\n",
       "    }\n",
       "\n",
       "    .dataframe thead th {\n",
       "        text-align: right;\n",
       "    }\n",
       "</style>\n",
       "<table border=\"1\" class=\"dataframe\">\n",
       "  <thead>\n",
       "    <tr style=\"text-align: right;\">\n",
       "      <th></th>\n",
       "      <th>0</th>\n",
       "      <th>1</th>\n",
       "      <th>2</th>\n",
       "      <th>3</th>\n",
       "      <th>4</th>\n",
       "      <th>5</th>\n",
       "    </tr>\n",
       "  </thead>\n",
       "  <tbody>\n",
       "    <tr>\n",
       "      <th>0</th>\n",
       "      <td>NaN</td>\n",
       "      <td>NaN</td>\n",
       "      <td>NaN</td>\n",
       "      <td>-0.000237</td>\n",
       "      <td>-2640.0</td>\n",
       "      <td>NaN</td>\n",
       "    </tr>\n",
       "    <tr>\n",
       "      <th>1</th>\n",
       "      <td>NaN</td>\n",
       "      <td>NaN</td>\n",
       "      <td>NaN</td>\n",
       "      <td>-0.000236</td>\n",
       "      <td>-2640.0</td>\n",
       "      <td>NaN</td>\n",
       "    </tr>\n",
       "    <tr>\n",
       "      <th>2</th>\n",
       "      <td>NaN</td>\n",
       "      <td>NaN</td>\n",
       "      <td>NaN</td>\n",
       "      <td>-0.000236</td>\n",
       "      <td>-2680.0</td>\n",
       "      <td>NaN</td>\n",
       "    </tr>\n",
       "    <tr>\n",
       "      <th>3</th>\n",
       "      <td>NaN</td>\n",
       "      <td>NaN</td>\n",
       "      <td>NaN</td>\n",
       "      <td>-0.000236</td>\n",
       "      <td>-2600.0</td>\n",
       "      <td>NaN</td>\n",
       "    </tr>\n",
       "    <tr>\n",
       "      <th>4</th>\n",
       "      <td>NaN</td>\n",
       "      <td>NaN</td>\n",
       "      <td>NaN</td>\n",
       "      <td>-0.000235</td>\n",
       "      <td>-2680.0</td>\n",
       "      <td>NaN</td>\n",
       "    </tr>\n",
       "  </tbody>\n",
       "</table>\n",
       "</div>"
      ],
      "text/plain": [
       "    0   1   2         3       4   5\n",
       "0 NaN NaN NaN -0.000237 -2640.0 NaN\n",
       "1 NaN NaN NaN -0.000236 -2640.0 NaN\n",
       "2 NaN NaN NaN -0.000236 -2680.0 NaN\n",
       "3 NaN NaN NaN -0.000236 -2600.0 NaN\n",
       "4 NaN NaN NaN -0.000235 -2680.0 NaN"
      ]
     },
     "execution_count": 1,
     "metadata": {},
     "output_type": "execute_result"
    }
   ],
   "source": [
    "import pandas as pd\n",
    "\n",
    "pre_format = pd.read_csv('Data/ALL0044/trim44CH1.CSV', header=None)\n",
    "pre_format.head()"
   ]
  },
  {
   "cell_type": "markdown",
   "metadata": {},
   "source": [
    "Only columns 3 and 4 are used. Make a DataFrame from this."
   ]
  },
  {
   "cell_type": "code",
   "execution_count": 2,
   "metadata": {},
   "outputs": [
    {
     "data": {
      "text/html": [
       "<div>\n",
       "<style scoped>\n",
       "    .dataframe tbody tr th:only-of-type {\n",
       "        vertical-align: middle;\n",
       "    }\n",
       "\n",
       "    .dataframe tbody tr th {\n",
       "        vertical-align: top;\n",
       "    }\n",
       "\n",
       "    .dataframe thead th {\n",
       "        text-align: right;\n",
       "    }\n",
       "</style>\n",
       "<table border=\"1\" class=\"dataframe\">\n",
       "  <thead>\n",
       "    <tr style=\"text-align: right;\">\n",
       "      <th></th>\n",
       "      <th>Domain</th>\n",
       "      <th>Value</th>\n",
       "    </tr>\n",
       "  </thead>\n",
       "  <tbody>\n",
       "    <tr>\n",
       "      <th>0</th>\n",
       "      <td>-0.000237</td>\n",
       "      <td>-2640.0</td>\n",
       "    </tr>\n",
       "    <tr>\n",
       "      <th>1</th>\n",
       "      <td>-0.000236</td>\n",
       "      <td>-2640.0</td>\n",
       "    </tr>\n",
       "    <tr>\n",
       "      <th>2</th>\n",
       "      <td>-0.000236</td>\n",
       "      <td>-2680.0</td>\n",
       "    </tr>\n",
       "    <tr>\n",
       "      <th>3</th>\n",
       "      <td>-0.000236</td>\n",
       "      <td>-2600.0</td>\n",
       "    </tr>\n",
       "    <tr>\n",
       "      <th>4</th>\n",
       "      <td>-0.000235</td>\n",
       "      <td>-2680.0</td>\n",
       "    </tr>\n",
       "  </tbody>\n",
       "</table>\n",
       "</div>"
      ],
      "text/plain": [
       "     Domain   Value\n",
       "0 -0.000237 -2640.0\n",
       "1 -0.000236 -2640.0\n",
       "2 -0.000236 -2680.0\n",
       "3 -0.000236 -2600.0\n",
       "4 -0.000235 -2680.0"
      ]
     },
     "execution_count": 2,
     "metadata": {},
     "output_type": "execute_result"
    }
   ],
   "source": [
    "ch1_44 = pd.DataFrame([pre_format[3], pre_format[4]]).T\n",
    "ch1_44.rename(columns={3:'Domain', 4:'Value'}, \n",
    "              inplace=True)\n",
    "\n",
    "ch1_44.head()"
   ]
  },
  {
   "cell_type": "code",
   "execution_count": 3,
   "metadata": {},
   "outputs": [
    {
     "data": {
      "text/plain": [
       "[<matplotlib.lines.Line2D at 0x7fe8a3f3c950>]"
      ]
     },
     "execution_count": 3,
     "metadata": {},
     "output_type": "execute_result"
    },
    {
     "data": {
      "image/png": "[encoded data removed]",
      "text/plain": [
       "<Figure size 640x480 with 1 Axes>"
      ]
     },
     "metadata": {},
     "output_type": "display_data"
    }
   ],
   "source": [
    "import matplotlib.pyplot as plt\n",
    "%matplotlib inline\n",
    "\n",
    "plt.plot(ch1_44['Domain'], ch1_44['Value'])"
   ]
  },
  {
   "cell_type": "markdown",
   "metadata": {},
   "source": [
    "Now here's where the metadata is important (or the picture). The amplitude should be $5.12~kV$. The timesteps on the oscilloscope are $M = 100~\\mu s$, so from 0 to the right hand side of the oscilloscope window should be $(0, 500~\\mu s)$.\n",
    "\n",
    "But, for the sake of the Fourier (or Inverse Fourier) Transforms, these shouldn't matter* [wrong]. Only the integration of the power spectrum should matter, and the corresponding variance.\n",
    "\n",
    "## TODO Account for the units"
   ]
  },
  {
   "cell_type": "markdown",
   "metadata": {},
   "source": [
    "When the input $a$ is a time-domain signal and `A = fft(a)`, `np.abs(A)` is its amplitude spectrum and `np.abs(A)**2` is its power spectrum.\n",
    "From [NumPy documentation](https://numpy.org/doc/stable/reference/routines.fft.html)."
   ]
  },
  {
   "cell_type": "code",
   "execution_count": 4,
   "metadata": {},
   "outputs": [
    {
     "data": {
      "text/plain": [
       "Text(0, 0.5, 'Signal Presence (units?)')"
      ]
     },
     "execution_count": 4,
     "metadata": {},
     "output_type": "execute_result"
    },
    {
     "data": {
      "image/png": "[encoded data removed]",
      "text/plain": [
       "<Figure size 640x480 with 1 Axes>"
      ]
     },
     "metadata": {},
     "output_type": "display_data"
    }
   ],
   "source": [
    "import numpy as np\n",
    "\n",
    "# (Amplitude) Spectrum\n",
    "sp = np.fft.fft(ch1_44['Value'])\n",
    "# Power Spectrum\n",
    "pow_sp = np.abs(sp)**2\n",
    "freq = np.fft.fftfreq(ch1_44['Domain'].shape[0])\n",
    "\n",
    "# Note that you need to take the Absolute Value of `sp` with np.abs()\n",
    "plt.plot(freq, np.abs(sp))\n",
    "plt.title('Amplitude Spectrum')\n",
    "plt.xlabel('Frequency (units?)') # Needs unit conversion above before we can say this is in Hz\n",
    "plt.ylabel('Signal Presence (units?)')"
   ]
  },
  {
   "cell_type": "markdown",
   "metadata": {},
   "source": [
    "What was the actual FFT from the oscilloscope? (We'll need to do some image editing to mirror it on y-axis).\n",
    "\n",
    "<img src='Data/ALL0045/F0045TEK.BMP' width='600'>"
   ]
  },
  {
   "cell_type": "markdown",
   "metadata": {},
   "source": [
    "Calculation of the integral using trapezoidal approximation."
   ]
  },
  {
   "cell_type": "code",
   "execution_count": 5,
   "metadata": {},
   "outputs": [
    {
     "data": {
      "text/plain": [
       "6482033000.084005"
      ]
     },
     "execution_count": 5,
     "metadata": {},
     "output_type": "execute_result"
    }
   ],
   "source": [
    "integral_FT = np.trapz(pow_sp, freq)\n",
    "integral_FT"
   ]
  },
  {
   "cell_type": "code",
   "execution_count": 6,
   "metadata": {},
   "outputs": [
    {
     "data": {
      "text/plain": [
       "3464.05504"
      ]
     },
     "execution_count": 6,
     "metadata": {},
     "output_type": "execute_result"
    }
   ],
   "source": [
    "# Integrate absolute square of time-domain signal\n",
    "abs_sq = np.abs(ch1_44['Value'])**2\n",
    "integral_signal = np.trapz(abs_sq, ch1_44['Domain'])\n",
    "integral_signal"
   ]
  },
  {
   "cell_type": "markdown",
   "metadata": {},
   "source": [
    "Looks like we have to account for the units after all. This is\n",
    "\n",
    "## TODO"
   ]
  }
 ],
 "metadata": {
  "kernelspec": {
   "display_name": "base",
   "language": "python",
   "name": "python3"
  },
  "language_info": {
   "codemirror_mode": {
    "name": "ipython",
    "version": 3
   },
   "file_extension": ".py",
   "mimetype": "text/x-python",
   "name": "python",
   "nbconvert_exporter": "python",
   "pygments_lexer": "ipython3",
   "version": "3.11.3"
  }
 },
 "nbformat": 4,
 "nbformat_minor": 2
}
